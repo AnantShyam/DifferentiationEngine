{
 "cells": [
  {
   "cell_type": "code",
   "execution_count": 55,
   "metadata": {},
   "outputs": [],
   "source": [
    "class VarNode:\n",
    "\n",
    "    def __init__(self, var_name, value, children = [], parents = []):\n",
    "        self.var_name = var_name\n",
    "        self.value = value \n",
    "        self.children = children \n",
    "        self.parents = parents \n",
    "        self.gradient = 1\n",
    "\n",
    "class OperationNode:\n",
    "\n",
    "    def __init__(self, operation, value, children = [], parents = []):\n",
    "        self.operation = operation\n",
    "        self.value = value \n",
    "        self.children = children \n",
    "        self.parents = parents\n",
    "        self.gradient = 1"
   ]
  },
  {
   "cell_type": "code",
   "execution_count": 56,
   "metadata": {},
   "outputs": [
    {
     "name": "stdout",
     "output_type": "stream",
     "text": [
      "1\n"
     ]
    }
   ],
   "source": [
    "# test graph for the function l = (x * y) + (y * z), x = 2, y = 3, z = 4\n",
    "x = VarNode('x', 2, [], [])\n",
    "y = VarNode('y', 3, [], [])\n",
    "z = VarNode('z', 4, [], [])\n",
    "\n",
    "mult1 = OperationNode('*', 1, [x, y], [])\n",
    "mult2 = OperationNode('*', 1, [y, z], [])\n",
    "\n",
    "x.parents.append(mult1)\n",
    "y.parents.append(mult1)\n",
    "y.parents.append(mult2)\n",
    "z.parents.append(mult2)\n",
    "\n",
    "add1 = OperationNode('+', float('inf'), [mult1, mult2], [])\n",
    "mult1.parents.append(add1)\n",
    "mult2.parents.append(add1)\n",
    "\n",
    "loss = VarNode('l', float('inf'), [add1], [])\n",
    "add1.parents.append(loss)\n",
    "\n",
    "graph = [x, y, z, mult1, mult2, add1, loss]\n",
    "\n",
    "print(len(x.parents))"
   ]
  },
  {
   "cell_type": "code",
   "execution_count": 57,
   "metadata": {},
   "outputs": [],
   "source": [
    "# do forward pass\n",
    "pq = []\n",
    "for node in graph:\n",
    "    pq.append(node)\n",
    "\n",
    "for node in pq:\n",
    "    # check if all dependencies have been calculated \n",
    "    all_dependencies_calculated = True \n",
    "    for child in node.children:\n",
    "        if child.value == float('inf'):\n",
    "            all_dependencies_calculated = False \n",
    "    \n",
    "    if all_dependencies_calculated:\n",
    "        if isinstance(node, OperationNode):\n",
    "            if node.operation == '*':\n",
    "                res = 1\n",
    "                for child in node.children:\n",
    "                    res *= child.value\n",
    "                node.value = res\n",
    "            elif node.operation == '+':\n",
    "                res = 0\n",
    "                for child in node.children:\n",
    "                    res += child.value\n",
    "                node.value = res\n",
    "            elif node.operation == \"-\":\n",
    "                res = 0\n",
    "                for child in node.children:\n",
    "                    res -= child.value\n",
    "                node.value = res\n",
    "        else:\n",
    "            if node.children: # must be the final loss node\n",
    "                node.value = node.children[0].value\n",
    "        \n",
    "\n"
   ]
  },
  {
   "cell_type": "code",
   "execution_count": 58,
   "metadata": {},
   "outputs": [
    {
     "name": "stdout",
     "output_type": "stream",
     "text": [
      "x value = 2\n",
      "y value = 3\n",
      "z value = 4\n",
      "* value = 6\n",
      "* value = 12\n",
      "+ value = 18\n",
      "l value = 18\n"
     ]
    }
   ],
   "source": [
    "for node in graph:\n",
    "    node_name = None\n",
    "    if isinstance(node, VarNode):\n",
    "        node_name = node.var_name\n",
    "    else:\n",
    "        node_name = node.operation\n",
    "    print(f\"{node_name} value = {node.value}\")"
   ]
  },
  {
   "cell_type": "code",
   "execution_count": 59,
   "metadata": {},
   "outputs": [],
   "source": [
    "# implement backward pass\n",
    "pq = [add1]\n",
    "\n",
    "visited = set()\n",
    "while pq:\n",
    "    node = pq.pop(0)\n",
    "    visited.add(node)\n",
    "    # analyze the parent(s) of the node\n",
    "    if loss in node.parents:\n",
    "        node.gradient = loss.gradient\n",
    "        for child in node.children:\n",
    "            if child not in pq and child not in visited:\n",
    "                pq.append(child)\n",
    "    else:\n",
    "        mult_grad, add_grad = 0, 0\n",
    "        for parent in node.parents:\n",
    "            if isinstance(parent, OperationNode):\n",
    "                if parent.operation == \"*\":\n",
    "                    for child in parent.children:\n",
    "                        if child != node:\n",
    "                            mult_grad += child.value \n",
    "                elif parent.operation == \"+\" or parent.operation == \"-\":\n",
    "                    add_grad += 1\n",
    "        if mult_grad != 1 and add_grad != 0:\n",
    "            node.gradient = mult_grad + add_grad\n",
    "        elif mult_grad == 1 and add_grad != 0:\n",
    "            node.gradient = add_grad\n",
    "        elif mult_grad != 1 and add_grad == 0:\n",
    "            node.gradient = mult_grad\n",
    "\n",
    "        for child in node.children:\n",
    "            if child not in pq and child not in visited:\n",
    "                pq.append(child)\n",
    "\n",
    "\n",
    "    "
   ]
  },
  {
   "cell_type": "code",
   "execution_count": 60,
   "metadata": {},
   "outputs": [
    {
     "name": "stdout",
     "output_type": "stream",
     "text": [
      "x gradient = 3\n",
      "y gradient = 6\n",
      "z gradient = 3\n",
      "* gradient = 1\n",
      "* gradient = 1\n",
      "+ gradient = 1\n",
      "l gradient = 1\n"
     ]
    }
   ],
   "source": [
    "for node in graph:\n",
    "    node_name = None\n",
    "    if isinstance(node, VarNode):\n",
    "        node_name = node.var_name\n",
    "    else:\n",
    "        node_name = node.operation\n",
    "    print(f\"{node_name} gradient = {node.gradient}\")"
   ]
  },
  {
   "cell_type": "code",
   "execution_count": null,
   "metadata": {},
   "outputs": [],
   "source": []
  }
 ],
 "metadata": {
  "kernelspec": {
   "display_name": "Python 3.9.6 64-bit",
   "language": "python",
   "name": "python3"
  },
  "language_info": {
   "codemirror_mode": {
    "name": "ipython",
    "version": 3
   },
   "file_extension": ".py",
   "mimetype": "text/x-python",
   "name": "python",
   "nbconvert_exporter": "python",
   "pygments_lexer": "ipython3",
   "version": "3.9.6"
  },
  "orig_nbformat": 4,
  "vscode": {
   "interpreter": {
    "hash": "31f2aee4e71d21fbe5cf8b01ff0e069b9275f58929596ceb00d14d90e3e16cd6"
   }
  }
 },
 "nbformat": 4,
 "nbformat_minor": 2
}
