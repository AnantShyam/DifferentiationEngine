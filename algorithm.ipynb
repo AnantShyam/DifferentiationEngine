{
 "cells": [
  {
   "cell_type": "code",
   "execution_count": 92,
   "metadata": {},
   "outputs": [],
   "source": [
    "class VarNode:\n",
    "\n",
    "    def __init__(self, var_name, value, children = [], parents = []):\n",
    "        self.var_name = var_name\n",
    "        self.value = value \n",
    "        self.children = children \n",
    "        self.parents = parents \n",
    "\n",
    "class OperationNode:\n",
    "\n",
    "    def __init__(self, operation, value, children = [], parents = []):\n",
    "        self.operation = operation\n",
    "        self.value = value \n",
    "        self.children = children \n",
    "        self.parents = parents"
   ]
  },
  {
   "cell_type": "code",
   "execution_count": 93,
   "metadata": {},
   "outputs": [],
   "source": [
    "# test graph for the function l = (x * y) + (y * z), x = 2, y = 3, z = 4\n",
    "x = VarNode('x', 2, [])\n",
    "y = VarNode('y', 3, [])\n",
    "z = VarNode('z', 4, [])\n",
    "\n",
    "mult1 = OperationNode('*', 1, [x, y])\n",
    "mult2 = OperationNode('*', 1, [y, z])\n",
    "\n",
    "x.parents.append(mult1)\n",
    "y.parents.append(mult1)\n",
    "y.parents.append(mult2)\n",
    "z.parents.append(mult2)\n",
    "\n",
    "add1 = OperationNode('+', float('inf'), [mult1, mult2])\n",
    "mult1.parents.append(add1)\n",
    "mult2.parents.append(add1)\n",
    "\n",
    "loss = VarNode('l', float('inf'), [add1])\n",
    "add1.parents.append(loss)\n",
    "\n",
    "graph = [x, y, z, mult1, mult2, add1, loss]"
   ]
  },
  {
   "cell_type": "code",
   "execution_count": 94,
   "metadata": {},
   "outputs": [],
   "source": [
    "# do forward pass\n",
    "pq = []\n",
    "for node in graph:\n",
    "    pq.append(node)\n",
    "\n",
    "for node in pq:\n",
    "    # check if all dependencies have been calculated \n",
    "    all_dependencies_calculated = True \n",
    "    for child in node.children:\n",
    "        if child.value == float('inf'):\n",
    "            all_dependencies_calculated = False \n",
    "    \n",
    "    if all_dependencies_calculated:\n",
    "        if isinstance(node, OperationNode):\n",
    "            if node.operation == '*':\n",
    "                res = 1\n",
    "                for child in node.children:\n",
    "                    res *= child.value\n",
    "                node.value = res\n",
    "            elif node.operation == '+':\n",
    "                res = 0\n",
    "                for child in node.children:\n",
    "                    res += child.value\n",
    "                node.value = res\n",
    "        else:\n",
    "            if node.children: # must be the final loss node\n",
    "                node.value = node.children[0].value\n",
    "        \n",
    "\n"
   ]
  },
  {
   "cell_type": "code",
   "execution_count": 95,
   "metadata": {},
   "outputs": [
    {
     "name": "stdout",
     "output_type": "stream",
     "text": [
      "x = 2\n",
      "y = 3\n",
      "z = 4\n",
      "* = 6\n",
      "* = 12\n",
      "+ = 18\n",
      "l = 18\n"
     ]
    }
   ],
   "source": [
    "for node in graph:\n",
    "    node_name = None\n",
    "    if isinstance(node, VarNode):\n",
    "        node_name = node.var_name\n",
    "    else:\n",
    "        node_name = node.operation\n",
    "    print(f\"{node_name} = {node.value}\")"
   ]
  },
  {
   "cell_type": "code",
   "execution_count": null,
   "metadata": {},
   "outputs": [],
   "source": []
  }
 ],
 "metadata": {
  "kernelspec": {
   "display_name": "Python 3.9.6 64-bit",
   "language": "python",
   "name": "python3"
  },
  "language_info": {
   "codemirror_mode": {
    "name": "ipython",
    "version": 3
   },
   "file_extension": ".py",
   "mimetype": "text/x-python",
   "name": "python",
   "nbconvert_exporter": "python",
   "pygments_lexer": "ipython3",
   "version": "3.9.6"
  },
  "orig_nbformat": 4,
  "vscode": {
   "interpreter": {
    "hash": "31f2aee4e71d21fbe5cf8b01ff0e069b9275f58929596ceb00d14d90e3e16cd6"
   }
  }
 },
 "nbformat": 4,
 "nbformat_minor": 2
}
